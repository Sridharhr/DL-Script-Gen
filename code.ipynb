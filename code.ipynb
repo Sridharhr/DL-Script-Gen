{
 "cells": [
  {
   "cell_type": "markdown",
   "metadata": {
    "deletable": true,
    "editable": true
   },
   "source": [
    "# TV Script Generation\n",
    "Generates a [Simpsons](https://en.wikipedia.org/wiki/The_Simpsons) TV script using RNNs.  Uses part of the [Simpsons dataset](https://www.kaggle.com/wcukierski/the-simpsons-by-the-data) of scripts from 27 seasons.  Code generate a new TV script for a scene at [Moe's Tavern](https://simpsonswiki.com/wiki/Moe's_Tavern).\n",
    "## Get the Data\n",
    "Subset of the original dataset, consisting of only the scenes in Moe's Tavern. (This doesn't include other versions of the tavern, like \"Moe's Cavern\", \"Flaming Moe's\", \"Uncle Moe's Family Feed-Bag\", etc..)"
   ]
  },
  {
   "cell_type": "code",
   "execution_count": 106,
   "metadata": {
    "collapsed": false,
    "deletable": true,
    "editable": true
   },
   "outputs": [],
   "source": [
    "\"\"\"\n",
    "DON'T MODIFY ANYTHING IN THIS CELL\n",
    "\"\"\"\n",
    "import helper\n",
    "\n",
    "data_dir = './data/simpsons/moes_tavern_lines.txt'\n",
    "text = helper.load_data(data_dir)\n",
    "# Ignore notice, since we don't use it for analysing the data\n",
    "text = text[81:]"
   ]
  },
  {
   "cell_type": "markdown",
   "metadata": {
    "deletable": true,
    "editable": true
   },
   "source": [
    "## Explore the Data\n",
    "Play around with `view_sentence_range` to view different parts of the data."
   ]
  },
  {
   "cell_type": "code",
   "execution_count": 107,
   "metadata": {
    "collapsed": false,
    "deletable": true,
    "editable": true
   },
   "outputs": [
    {
     "name": "stdout",
     "output_type": "stream",
     "text": [
      "Dataset Stats\n",
      "Roughly the number of unique words: 11492\n",
      "Number of scenes: 262\n",
      "Average number of sentences in each scene: 15.248091603053435\n",
      "Number of lines: 4257\n",
      "Average number of words in each line: 11.50434578341555\n",
      "\n",
      "The sentences 0 to 10:\n",
      "Moe_Szyslak: (INTO PHONE) Moe's Tavern. Where the elite meet to drink.\n",
      "Bart_Simpson: Eh, yeah, hello, is Mike there? Last name, Rotch.\n",
      "Moe_Szyslak: (INTO PHONE) Hold on, I'll check. (TO BARFLIES) Mike Rotch. Mike Rotch. Hey, has anybody seen Mike Rotch, lately?\n",
      "Moe_Szyslak: (INTO PHONE) Listen you little puke. One of these days I'm gonna catch you, and I'm gonna carve my name on your back with an ice pick.\n",
      "Moe_Szyslak: What's the matter Homer? You're not your normal effervescent self.\n",
      "Homer_Simpson: I got my problems, Moe. Give me another one.\n",
      "Moe_Szyslak: Homer, hey, you should not drink to forget your problems.\n",
      "Barney_Gumble: Yeah, you should only drink to enhance your social skills.\n",
      "\n",
      "\n"
     ]
    }
   ],
   "source": [
    "view_sentence_range = (0, 10)\n",
    "\n",
    "\"\"\"\n",
    "DON'T MODIFY ANYTHING IN THIS CELL\n",
    "\"\"\"\n",
    "import numpy as np\n",
    "\n",
    "print('Dataset Stats')\n",
    "print('Roughly the number of unique words: {}'.format(len({word: None for word in text.split()})))\n",
    "scenes = text.split('\\n\\n')\n",
    "print('Number of scenes: {}'.format(len(scenes)))\n",
    "sentence_count_scene = [scene.count('\\n') for scene in scenes]\n",
    "print('Average number of sentences in each scene: {}'.format(np.average(sentence_count_scene)))\n",
    "\n",
    "sentences = [sentence for scene in scenes for sentence in scene.split('\\n')]\n",
    "print('Number of lines: {}'.format(len(sentences)))\n",
    "word_count_sentence = [len(sentence.split()) for sentence in sentences]\n",
    "print('Average number of words in each line: {}'.format(np.average(word_count_sentence)))\n",
    "\n",
    "print()\n",
    "print('The sentences {} to {}:'.format(*view_sentence_range))\n",
    "print('\\n'.join(text.split('\\n')[view_sentence_range[0]:view_sentence_range[1]]))"
   ]
  },
  {
   "cell_type": "markdown",
   "metadata": {
    "deletable": true,
    "editable": true
   },
   "source": [
    "## Implement Preprocessing Functions\n",
    "First reprocessing:\n",
    "- Lookup Table\n",
    "- Tokenize Punctuation\n",
    "\n",
    "### Lookup Table\n",
    "Transform the words to ids to create a word embedding.  create two dictionaries:\n",
    "- Dictionary to go from the words to an id, `vocab_to_int`\n",
    "- Dictionary to go from the id to word, `int_to_vocab`\n",
    "\n",
    "Return these dictionaries in the following tuple `(vocab_to_int, int_to_vocab)`"
   ]
  },
  {
   "cell_type": "code",
   "execution_count": 109,
   "metadata": {
    "collapsed": false,
    "deletable": true,
    "editable": true
   },
   "outputs": [
    {
     "name": "stdout",
     "output_type": "stream",
     "text": [
      "Tests Passed\n"
     ]
    }
   ],
   "source": [
    "import numpy as np\n",
    "import problem_unittests as tests\n",
    "\n",
    "def create_lookup_tables(text):\n",
    "    \"\"\"\n",
    "    Create lookup tables for vocabulary\n",
    "    :param text: The text of tv scripts split into words\n",
    "    :return: A tuple of dicts (vocab_to_int, int_to_vocab)\n",
    "    \"\"\"\n",
    "    # TODO: Implement Function\n",
    "    vocab = set(text)\n",
    "    \n",
    "    vocab_to_int = {word:i for i,word in enumerate(vocab)}\n",
    "    int_to_vocab = {i:word for i,word in enumerate(vocab)}\n",
    "    return vocab_to_int, int_to_vocab\n",
    "\n",
    "\n",
    "\"\"\"\n",
    "DON'T MODIFY ANYTHING IN THIS CELL THAT IS BELOW THIS LINE\n",
    "\"\"\"\n",
    "tests.test_create_lookup_tables(create_lookup_tables)"
   ]
  },
  {
   "cell_type": "markdown",
   "metadata": {
    "deletable": true,
    "editable": true
   },
   "source": [
    "### Tokenize Punctuation\n",
    "We'll be splitting the script into a word array using spaces as delimiters.  However, punctuations like periods and exclamation marks make it hard for the neural network to distinguish between the word \"bye\" and \"bye!\".\n",
    "\n",
    "function `token_lookup` to return a dict that will be used to tokenize symbols like \"!\" into \"||Exclamation_Mark||\".  Create a dictionary for the following symbols where the symbol is the key and value is the token:\n",
    "- Period ( . )\n",
    "- Comma ( , )\n",
    "- Quotation Mark ( \" )\n",
    "- Semicolon ( ; )\n",
    "- Exclamation mark ( ! )\n",
    "- Question mark ( ? )\n",
    "- Left Parentheses ( ( )\n",
    "- Right Parentheses ( ) )\n",
    "- Dash ( -- )\n",
    "- Return ( \\n )\n",
    "\n",
    "This dictionary will be used to token the symbols and add the delimiter (space) around it.  This separates the symbols as it's own word, making it easier for the neural network to predict on the next word. Make sure you don't use a token that could be confused as a word. Instead of using the token \"dash\", try using something like \"||dash||\"."
   ]
  },
  {
   "cell_type": "code",
   "execution_count": 110,
   "metadata": {
    "collapsed": false,
    "deletable": true,
    "editable": true
   },
   "outputs": [
    {
     "name": "stdout",
     "output_type": "stream",
     "text": [
      "Tests Passed\n"
     ]
    }
   ],
   "source": [
    "def token_lookup():\n",
    "    \"\"\"\n",
    "    Generate a dict to turn punctuation into a token.\n",
    "    :return: Tokenize dictionary where the key is the punctuation and the value is the token\n",
    "    \"\"\"\n",
    "    # TODO: Implement Function\n",
    "    punc_dict = \\\n",
    "    { \\\n",
    "        '.'  : \"||PERIOD||\", \\\n",
    "        ','  : \"||COMMA||\", \\\n",
    "        '\"'  : \"||QUOTE||\", \\\n",
    "        ';'  : \"||SEMICOLON||\", \\\n",
    "        '!'  : \"||EXCLAMATION||\", \\\n",
    "        '?'  : \"||QUESTION||\", \\\n",
    "        '('  : \"||LEFTPARAN||\", \\\n",
    "        ')'  : \"||RIGHTPARAN||\", \\\n",
    "        '--' : \"||DASH||\", \\\n",
    "        '\\n' : \"||RETURN||\" \\\n",
    "    }\n",
    "    \n",
    "    return punc_dict\n",
    "\n",
    "\"\"\"\n",
    "DON'T MODIFY ANYTHING IN THIS CELL THAT IS BELOW THIS LINE\n",
    "\"\"\"\n",
    "tests.test_tokenize(token_lookup)"
   ]
  },
  {
   "cell_type": "markdown",
   "metadata": {
    "deletable": true,
    "editable": true
   },
   "source": [
    "## Preprocess all the data and save it\n",
    "Running the code cell below will preprocess all the data and save it to file."
   ]
  },
  {
   "cell_type": "code",
   "execution_count": 111,
   "metadata": {
    "collapsed": false,
    "deletable": true,
    "editable": true
   },
   "outputs": [],
   "source": [
    "\"\"\"\n",
    "DON'T MODIFY ANYTHING IN THIS CELL\n",
    "\"\"\"\n",
    "# Preprocess Training, Validation, and Testing Data\n",
    "helper.preprocess_and_save_data(data_dir, token_lookup, create_lookup_tables)"
   ]
  },
  {
   "cell_type": "markdown",
   "metadata": {
    "deletable": true,
    "editable": true
   },
   "source": [
    "# Check Point\n",
    "This is your first checkpoint. If you ever decide to come back to this notebook or have to restart the notebook, you can start from here. The preprocessed data has been saved to disk."
   ]
  },
  {
   "cell_type": "code",
   "execution_count": 112,
   "metadata": {
    "collapsed": false,
    "deletable": true,
    "editable": true
   },
   "outputs": [],
   "source": [
    "\"\"\"\n",
    "DON'T MODIFY ANYTHING IN THIS CELL\n",
    "\"\"\"\n",
    "import helper\n",
    "import numpy as np\n",
    "import problem_unittests as tests\n",
    "\n",
    "int_text, vocab_to_int, int_to_vocab, token_dict = helper.load_preprocess()"
   ]
  },
  {
   "cell_type": "markdown",
   "metadata": {
    "deletable": true,
    "editable": true
   },
   "source": [
    "## Build the Neural Network\n",
    "build the components necessary to build a RNN by implementing the following functions below:\n",
    "- get_inputs\n",
    "- get_init_cell\n",
    "- get_embed\n",
    "- build_rnn\n",
    "- build_nn\n",
    "- get_batches\n",
    "\n",
    "### Check the Version of TensorFlow and Access to GPU"
   ]
  },
  {
   "cell_type": "code",
   "execution_count": 113,
   "metadata": {
    "collapsed": false
   },
   "outputs": [
    {
     "name": "stdout",
     "output_type": "stream",
     "text": [
      "TensorFlow Version: 1.0.0\n"
     ]
    },
    {
     "name": "stderr",
     "output_type": "stream",
     "text": [
      "/Users/prashantpradhan/anaconda/envs/dlnd-tf-lab/lib/python3.5/site-packages/ipykernel/__main__.py:14: UserWarning: No GPU found. Please use a GPU to train your neural network.\n"
     ]
    }
   ],
   "source": [
    "\"\"\"\n",
    "DON'T MODIFY ANYTHING IN THIS CELL\n",
    "\"\"\"\n",
    "from distutils.version import LooseVersion\n",
    "import warnings\n",
    "import tensorflow as tf\n",
    "\n",
    "# Check TensorFlow Version\n",
    "assert LooseVersion(tf.__version__) >= LooseVersion('1.0'), 'Please use TensorFlow version 1.0 or newer'\n",
    "print('TensorFlow Version: {}'.format(tf.__version__))\n",
    "\n",
    "# Check for a GPU\n",
    "if not tf.test.gpu_device_name():\n",
    "    warnings.warn('No GPU found. Please use a GPU to train your neural network.')\n",
    "else:\n",
    "    print('Default GPU Device: {}'.format(tf.test.gpu_device_name()))"
   ]
  },
  {
   "cell_type": "markdown",
   "metadata": {},
   "source": [
    "### Input\n",
    "`get_inputs()` function to create TF Placeholders for the Neural Network.  It should create the following placeholders:\n",
    "- Input text placeholder named \"input\" using the [TF Placeholder](https://www.tensorflow.org/api_docs/python/tf/placeholder) `name` parameter.\n",
    "- Targets placeholder\n",
    "- Learning Rate placeholder\n",
    "\n",
    "Return the placeholders in the following the tuple `(Input, Targets, LearingRate)`"
   ]
  },
  {
   "cell_type": "code",
   "execution_count": 114,
   "metadata": {
    "collapsed": false,
    "deletable": true,
    "editable": true
   },
   "outputs": [
    {
     "name": "stdout",
     "output_type": "stream",
     "text": [
      "Tests Passed\n"
     ]
    }
   ],
   "source": [
    "def get_inputs():\n",
    "    \"\"\"\n",
    "    Create TF Placeholders for input, targets, and learning rate.\n",
    "    :return: Tuple (input, targets, learning rate)\n",
    "    \"\"\"\n",
    "    # TODO: Implement Function\n",
    "    inputs = tf.placeholder(tf.int32,[None,None],name='input')\n",
    "    targets = tf.placeholder(tf.int32,[None,None],name='target')\n",
    "    lrate = tf.placeholder(tf.float32,name='lrate')\n",
    "    return inputs, targets, lrate\n",
    "\n",
    "\n",
    "\"\"\"\n",
    "DON'T MODIFY ANYTHING IN THIS CELL THAT IS BELOW THIS LINE\n",
    "\"\"\"\n",
    "tests.test_get_inputs(get_inputs)"
   ]
  },
  {
   "cell_type": "markdown",
   "metadata": {
    "deletable": true,
    "editable": true
   },
   "source": [
    "### Build RNN Cell and Initialize\n",
    "Stack one or more [`BasicLSTMCells`](https://www.tensorflow.org/api_docs/python/tf/contrib/rnn/BasicLSTMCell) in a [`MultiRNNCell`](https://www.tensorflow.org/api_docs/python/tf/contrib/rnn/MultiRNNCell).\n",
    "- The Rnn size should be set using `rnn_size`\n",
    "- Initalize Cell State using the MultiRNNCell's [`zero_state()`](https://www.tensorflow.org/api_docs/python/tf/contrib/rnn/MultiRNNCell#zero_state) function\n",
    "    - Apply the name \"initial_state\" to the initial state using [`tf.identity()`](https://www.tensorflow.org/api_docs/python/tf/identity)\n",
    "\n",
    "Return the cell and initial state in the following tuple `(Cell, InitialState)`"
   ]
  },
  {
   "cell_type": "code",
   "execution_count": 115,
   "metadata": {
    "collapsed": false,
    "deletable": true,
    "editable": true
   },
   "outputs": [
    {
     "name": "stdout",
     "output_type": "stream",
     "text": [
      "Tests Passed\n"
     ]
    }
   ],
   "source": [
    "def get_init_cell(batch_size, rnn_size):\n",
    "    \"\"\"\n",
    "    Create an RNN Cell and initialize it.\n",
    "    :param batch_size: Size of batches\n",
    "    :param rnn_size: Size of RNNs\n",
    "    :return: Tuple (cell, initialize state)\n",
    "    \"\"\"\n",
    "    # TODO: Implement Function\n",
    "    layers = 1\n",
    "    lstm = tf.contrib.rnn.BasicLSTMCell(rnn_size)\n",
    "    rnn = tf.contrib.rnn.MultiRNNCell([lstm]*layers)\n",
    "    init_state = rnn.zero_state(batch_size,tf.float32)\n",
    "    initial_state = tf.identity(init_state,name='initial_state')\n",
    "    return rnn , initial_state\n",
    "\n",
    "\n",
    "\"\"\"\n",
    "DON'T MODIFY ANYTHING IN THIS CELL THAT IS BELOW THIS LINE\n",
    "\"\"\"\n",
    "tests.test_get_init_cell(get_init_cell)"
   ]
  },
  {
   "cell_type": "markdown",
   "metadata": {
    "deletable": true,
    "editable": true
   },
   "source": [
    "### Word Embedding\n",
    "Apply embedding to `input_data` using TensorFlow.  Return the embedded sequence."
   ]
  },
  {
   "cell_type": "code",
   "execution_count": 116,
   "metadata": {
    "collapsed": false,
    "deletable": true,
    "editable": true
   },
   "outputs": [
    {
     "name": "stdout",
     "output_type": "stream",
     "text": [
      "Tests Passed\n"
     ]
    }
   ],
   "source": [
    "def get_embed(input_data, vocab_size, embed_dim):\n",
    "    \"\"\"\n",
    "    Create embedding for <input_data>.\n",
    "    :param input_data: TF placeholder for text input.\n",
    "    :param vocab_size: Number of words in vocabulary.\n",
    "    :param embed_dim: Number of embedding dimensions\n",
    "    :return: Embedded input.\n",
    "    \"\"\"\n",
    "    # TODO: Implement Function\n",
    "    embedding = tf.Variable(tf.random_uniform((vocab_size,embed_dim),-1,1))\n",
    "    embed = tf.nn.embedding_lookup(embedding,input_data)\n",
    "    return embed\n",
    "\n",
    "\n",
    "\"\"\"\n",
    "DON'T MODIFY ANYTHING IN THIS CELL THAT IS BELOW THIS LINE\n",
    "\"\"\"\n",
    "tests.test_get_embed(get_embed)"
   ]
  },
  {
   "cell_type": "markdown",
   "metadata": {
    "deletable": true,
    "editable": true
   },
   "source": [
    "### Build RNN\n",
    "Use RNN Cell created in the `get_init_cell()` function.\n",
    "- Build the RNN using the [`tf.nn.dynamic_rnn()`](https://www.tensorflow.org/api_docs/python/tf/nn/dynamic_rnn)\n",
    " - Apply the name \"final_state\" to the final state using [`tf.identity()`](https://www.tensorflow.org/api_docs/python/tf/identity)\n",
    "\n",
    "Return the outputs and final_state state in the following tuple `(Outputs, FinalState)` "
   ]
  },
  {
   "cell_type": "code",
   "execution_count": 117,
   "metadata": {
    "collapsed": false,
    "deletable": true,
    "editable": true
   },
   "outputs": [
    {
     "name": "stdout",
     "output_type": "stream",
     "text": [
      "Tests Passed\n"
     ]
    }
   ],
   "source": [
    "def build_rnn(cell, inputs):\n",
    "    \"\"\"\n",
    "    Create a RNN using a RNN Cell\n",
    "    :param cell: RNN Cell\n",
    "    :param inputs: Input text data\n",
    "    :return: Tuple (Outputs, Final State)\n",
    "    \"\"\"\n",
    "    # TODO: Implement Function\n",
    "    outputs, fin_state = tf.nn.dynamic_rnn(cell,inputs,dtype=tf.float32)\n",
    "    final_state = tf.identity(fin_state,name='final_state')\n",
    "    return outputs, final_state\n",
    "\n",
    "\n",
    "\"\"\"\n",
    "DON'T MODIFY ANYTHING IN THIS CELL THAT IS BELOW THIS LINE\n",
    "\"\"\"\n",
    "tests.test_build_rnn(build_rnn)"
   ]
  },
  {
   "cell_type": "markdown",
   "metadata": {
    "deletable": true,
    "editable": true
   },
   "source": [
    "### Build the Neural Network\n",
    "Apply the functions implemented above to:\n",
    "- Apply embedding to `input_data` using your `get_embed(input_data, vocab_size, embed_dim)` function.\n",
    "- Build RNN using `cell` and your `build_rnn(cell, inputs)` function.\n",
    "- Apply a fully connected layer with a linear activation and `vocab_size` as the number of outputs.\n",
    "\n",
    "Return the logits and final state in the following tuple (Logits, FinalState) "
   ]
  },
  {
   "cell_type": "code",
   "execution_count": 159,
   "metadata": {
    "collapsed": false,
    "deletable": true,
    "editable": true
   },
   "outputs": [
    {
     "name": "stdout",
     "output_type": "stream",
     "text": [
      "Tests Passed\n"
     ]
    }
   ],
   "source": [
    "def build_nn(cell, rnn_size, input_data, vocab_size):\n",
    "    \"\"\"\n",
    "    Build part of the neural network\n",
    "    :param cell: RNN cell\n",
    "    :param rnn_size: Size of rnns\n",
    "    :param input_data: Input data\n",
    "    :param vocab_size: Vocabulary size\n",
    "    :return: Tuple (Logits, FinalState)\n",
    "    \"\"\"\n",
    "    # TODO: Implement Function\n",
    "    embed = get_embed(input_data,vocab_size,300)\n",
    "    outputs, final_state = build_rnn(cell,embed)\n",
    "\n",
    "    logits = tf.contrib.layers.fully_connected(outputs, vocab_size, activation_fn=None)\n",
    "    \n",
    "    \n",
    "    return logits, final_state\n",
    "\n",
    "\n",
    "\"\"\"\n",
    "DON'T MODIFY ANYTHING IN THIS CELL THAT IS BELOW THIS LINE\n",
    "\"\"\"\n",
    "tests.test_build_nn(build_nn)"
   ]
  },
  {
   "cell_type": "markdown",
   "metadata": {
    "deletable": true,
    "editable": true
   },
   "source": [
    "### Batches\n",
    "Implement `get_batches` to create batches of input and targets using `int_text`.  The batches should be a Numpy array with the shape `(number of batches, 2, batch size, sequence length)`. Each batch contains two elements:\n",
    "- The first element is a single batch of **input** with the shape `[batch size, sequence length]`\n",
    "- The second element is a single batch of **targets** with the shape `[batch size, sequence length]`\n",
    "\n",
    "If you can't fill the last batch with enough data, drop the last batch.\n",
    "\n",
    "For exmple, `get_batches([1, 2, 3, 4, 5, 6, 7, 8, 9, 10, 11, 12, 13, 14, 15], 2, 3)` would return a Numpy array of the following:\n",
    "```\n",
    "[\n",
    "  # First Batch\n",
    "  [\n",
    "    # Batch of Input\n",
    "    [[ 1  2  3], [ 7  8  9]],\n",
    "    # Batch of targets\n",
    "    [[ 2  3  4], [ 8  9 10]]\n",
    "  ],\n",
    " \n",
    "  # Second Batch\n",
    "  [\n",
    "    # Batch of Input\n",
    "    [[ 4  5  6], [10 11 12]],\n",
    "    # Batch of targets\n",
    "    [[ 5  6  7], [11 12 13]]\n",
    "  ]\n",
    "]\n",
    "```"
   ]
  },
  {
   "cell_type": "code",
   "execution_count": 162,
   "metadata": {
    "collapsed": false,
    "deletable": true,
    "editable": true
   },
   "outputs": [
    {
     "name": "stdout",
     "output_type": "stream",
     "text": [
      "Tests Passed\n"
     ]
    }
   ],
   "source": [
    "def get_batches(int_text, batch_size, seq_length):\n",
    "    \"\"\"\n",
    "    Return batches of input and target\n",
    "    :param int_text: Text with the words replaced by their ids\n",
    "    :param batch_size: The size of batch\n",
    "    :param seq_length: The length of sequence\n",
    "    :return: Batches as a Numpy array\n",
    "    \"\"\"\n",
    "    # TODO: Implement Function\n",
    "    num_batches = len(int_text)//(batch_size*seq_length)\n",
    "    num_seq = len(int_text)//seq_length\n",
    "    all_batches = []\n",
    "    #print(\"num_batches is %d, num_seq %d\" % (num_batches,num_seq))\n",
    "    \n",
    "    for i in range(num_batches):\n",
    "        inputs = []\n",
    "        targets = []\n",
    "        for j in range(batch_size):\n",
    "            start = i*seq_length + j*seq_length*num_batches\n",
    "            inputs.append(int_text[start:start+seq_length])\n",
    "            #print(\"adding to inputs : %d to %d\" % (start , start+seq_length))\n",
    "            targets.append(int_text[start+1:start+seq_length+1])\n",
    "        #print(\"one batch done\")\n",
    "        all_batches.append([inputs,targets])\n",
    "\n",
    "    return np.array(all_batches)\n",
    "\n",
    "\"\"\"\n",
    "DON'T MODIFY ANYTHING IN THIS CELL THAT IS BELOW THIS LINE\n",
    "\"\"\"\n",
    "tests.test_get_batches(get_batches)"
   ]
  },
  {
   "cell_type": "markdown",
   "metadata": {
    "deletable": true,
    "editable": true
   },
   "source": [
    "## Neural Network Training\n",
    "### Hyperparameters\n",
    "Tune the following parameters:\n",
    "\n",
    "- Set `num_epochs` to the number of epochs.\n",
    "- Set `batch_size` to the batch size.\n",
    "- Set `rnn_size` to the size of the RNNs.\n",
    "- Set `seq_length` to the length of sequence.\n",
    "- Set `learning_rate` to the learning rate.\n",
    "- Set `show_every_n_batches` to the number of batches the neural network should print progress."
   ]
  },
  {
   "cell_type": "code",
   "execution_count": 163,
   "metadata": {
    "collapsed": true,
    "deletable": true,
    "editable": true
   },
   "outputs": [],
   "source": [
    "# Number of Epochs\n",
    "num_epochs = 50\n",
    "# Batch Size\n",
    "batch_size = 128\n",
    "# RNN Size\n",
    "rnn_size = 128\n",
    "# Sequence Length\n",
    "seq_length = 10\n",
    "# Learning Rate\n",
    "learning_rate = 0.01\n",
    "# Show stats for every n number of batches\n",
    "show_every_n_batches = 10\n",
    "\n",
    "\"\"\"\n",
    "DON'T MODIFY ANYTHING IN THIS CELL THAT IS BELOW THIS LINE\n",
    "\"\"\"\n",
    "save_dir = './save'"
   ]
  },
  {
   "cell_type": "markdown",
   "metadata": {
    "deletable": true,
    "editable": true
   },
   "source": [
    "### Build the Graph\n",
    "Build the graph using the neural network you implemented."
   ]
  },
  {
   "cell_type": "code",
   "execution_count": 164,
   "metadata": {
    "collapsed": false,
    "deletable": true,
    "editable": true
   },
   "outputs": [],
   "source": [
    "\"\"\"\n",
    "DON'T MODIFY ANYTHING IN THIS CELL\n",
    "\"\"\"\n",
    "from tensorflow.contrib import seq2seq\n",
    "\n",
    "train_graph = tf.Graph()\n",
    "with train_graph.as_default():\n",
    "    vocab_size = len(int_to_vocab)\n",
    "    input_text, targets, lr = get_inputs()\n",
    "    input_data_shape = tf.shape(input_text)\n",
    "    cell, initial_state = get_init_cell(input_data_shape[0], rnn_size)\n",
    "    logits, final_state = build_nn(cell, rnn_size, input_text, vocab_size)\n",
    "\n",
    "    # Probabilities for generating words\n",
    "    probs = tf.nn.softmax(logits, name='probs')\n",
    "\n",
    "    # Loss function\n",
    "    cost = seq2seq.sequence_loss(\n",
    "        logits,\n",
    "        targets,\n",
    "        tf.ones([input_data_shape[0], input_data_shape[1]]))\n",
    "\n",
    "    # Optimizer\n",
    "    optimizer = tf.train.AdamOptimizer(lr)\n",
    "\n",
    "    # Gradient Clipping\n",
    "    gradients = optimizer.compute_gradients(cost)\n",
    "    capped_gradients = [(tf.clip_by_value(grad, -1., 1.), var) for grad, var in gradients]\n",
    "    train_op = optimizer.apply_gradients(capped_gradients)"
   ]
  },
  {
   "cell_type": "markdown",
   "metadata": {
    "deletable": true,
    "editable": true
   },
   "source": [
    "## Train\n",
    "Train the neural network on the preprocessed data.  If you have a hard time getting a good loss, check the [forms](https://discussions.udacity.com/) to see if anyone is having the same problem."
   ]
  },
  {
   "cell_type": "code",
   "execution_count": 165,
   "metadata": {
    "collapsed": false,
    "deletable": true,
    "editable": true
   },
   "outputs": [
    {
     "name": "stdout",
     "output_type": "stream",
     "text": [
      "Epoch   0 Batch    0/53   train_loss = 8.822\n",
      "Epoch   0 Batch   10/53   train_loss = 6.532\n",
      "Epoch   0 Batch   20/53   train_loss = 6.205\n",
      "Epoch   0 Batch   30/53   train_loss = 5.767\n",
      "Epoch   0 Batch   40/53   train_loss = 5.628\n",
      "Epoch   0 Batch   50/53   train_loss = 5.412\n",
      "Epoch   1 Batch    7/53   train_loss = 5.178\n",
      "Epoch   1 Batch   17/53   train_loss = 5.067\n",
      "Epoch   1 Batch   27/53   train_loss = 4.967\n",
      "Epoch   1 Batch   37/53   train_loss = 4.765\n",
      "Epoch   1 Batch   47/53   train_loss = 4.675\n",
      "Epoch   2 Batch    4/53   train_loss = 4.564\n",
      "Epoch   2 Batch   14/53   train_loss = 4.586\n",
      "Epoch   2 Batch   24/53   train_loss = 4.521\n",
      "Epoch   2 Batch   34/53   train_loss = 4.391\n",
      "Epoch   2 Batch   44/53   train_loss = 4.308\n",
      "Epoch   3 Batch    1/53   train_loss = 4.235\n",
      "Epoch   3 Batch   11/53   train_loss = 4.121\n",
      "Epoch   3 Batch   21/53   train_loss = 4.282\n",
      "Epoch   3 Batch   31/53   train_loss = 4.013\n",
      "Epoch   3 Batch   41/53   train_loss = 3.969\n",
      "Epoch   3 Batch   51/53   train_loss = 4.044\n",
      "Epoch   4 Batch    8/53   train_loss = 3.940\n",
      "Epoch   4 Batch   18/53   train_loss = 3.895\n",
      "Epoch   4 Batch   28/53   train_loss = 3.697\n",
      "Epoch   4 Batch   38/53   train_loss = 3.704\n",
      "Epoch   4 Batch   48/53   train_loss = 3.721\n",
      "Epoch   5 Batch    5/53   train_loss = 3.738\n",
      "Epoch   5 Batch   15/53   train_loss = 3.715\n",
      "Epoch   5 Batch   25/53   train_loss = 3.656\n",
      "Epoch   5 Batch   35/53   train_loss = 3.479\n",
      "Epoch   5 Batch   45/53   train_loss = 3.394\n",
      "Epoch   6 Batch    2/53   train_loss = 3.482\n",
      "Epoch   6 Batch   12/53   train_loss = 3.416\n",
      "Epoch   6 Batch   22/53   train_loss = 3.302\n",
      "Epoch   6 Batch   32/53   train_loss = 3.294\n",
      "Epoch   6 Batch   42/53   train_loss = 3.213\n",
      "Epoch   6 Batch   52/53   train_loss = 3.296\n",
      "Epoch   7 Batch    9/53   train_loss = 3.316\n",
      "Epoch   7 Batch   19/53   train_loss = 3.203\n",
      "Epoch   7 Batch   29/53   train_loss = 3.170\n",
      "Epoch   7 Batch   39/53   train_loss = 3.096\n",
      "Epoch   7 Batch   49/53   train_loss = 3.102\n",
      "Epoch   8 Batch    6/53   train_loss = 3.055\n",
      "Epoch   8 Batch   16/53   train_loss = 3.046\n",
      "Epoch   8 Batch   26/53   train_loss = 2.971\n",
      "Epoch   8 Batch   36/53   train_loss = 2.991\n",
      "Epoch   8 Batch   46/53   train_loss = 2.919\n",
      "Epoch   9 Batch    3/53   train_loss = 2.954\n",
      "Epoch   9 Batch   13/53   train_loss = 2.996\n",
      "Epoch   9 Batch   23/53   train_loss = 2.962\n",
      "Epoch   9 Batch   33/53   train_loss = 2.867\n",
      "Epoch   9 Batch   43/53   train_loss = 2.821\n",
      "Epoch  10 Batch    0/53   train_loss = 2.789\n",
      "Epoch  10 Batch   10/53   train_loss = 2.726\n",
      "Epoch  10 Batch   20/53   train_loss = 2.795\n",
      "Epoch  10 Batch   30/53   train_loss = 2.782\n",
      "Epoch  10 Batch   40/53   train_loss = 2.723\n",
      "Epoch  10 Batch   50/53   train_loss = 2.782\n",
      "Epoch  11 Batch    7/53   train_loss = 2.726\n",
      "Epoch  11 Batch   17/53   train_loss = 2.541\n",
      "Epoch  11 Batch   27/53   train_loss = 2.618\n",
      "Epoch  11 Batch   37/53   train_loss = 2.637\n",
      "Epoch  11 Batch   47/53   train_loss = 2.605\n",
      "Epoch  12 Batch    4/53   train_loss = 2.589\n",
      "Epoch  12 Batch   14/53   train_loss = 2.581\n",
      "Epoch  12 Batch   24/53   train_loss = 2.403\n",
      "Epoch  12 Batch   34/53   train_loss = 2.461\n",
      "Epoch  12 Batch   44/53   train_loss = 2.496\n",
      "Epoch  13 Batch    1/53   train_loss = 2.334\n",
      "Epoch  13 Batch   11/53   train_loss = 2.495\n",
      "Epoch  13 Batch   21/53   train_loss = 2.294\n",
      "Epoch  13 Batch   31/53   train_loss = 2.423\n",
      "Epoch  13 Batch   41/53   train_loss = 2.392\n",
      "Epoch  13 Batch   51/53   train_loss = 2.289\n",
      "Epoch  14 Batch    8/53   train_loss = 2.349\n",
      "Epoch  14 Batch   18/53   train_loss = 2.351\n",
      "Epoch  14 Batch   28/53   train_loss = 2.286\n",
      "Epoch  14 Batch   38/53   train_loss = 2.337\n",
      "Epoch  14 Batch   48/53   train_loss = 2.234\n",
      "Epoch  15 Batch    5/53   train_loss = 2.374\n",
      "Epoch  15 Batch   15/53   train_loss = 2.265\n",
      "Epoch  15 Batch   25/53   train_loss = 2.340\n",
      "Epoch  15 Batch   35/53   train_loss = 2.216\n",
      "Epoch  15 Batch   45/53   train_loss = 2.257\n",
      "Epoch  16 Batch    2/53   train_loss = 2.255\n",
      "Epoch  16 Batch   12/53   train_loss = 2.224\n",
      "Epoch  16 Batch   22/53   train_loss = 2.176\n",
      "Epoch  16 Batch   32/53   train_loss = 2.071\n",
      "Epoch  16 Batch   42/53   train_loss = 2.033\n",
      "Epoch  16 Batch   52/53   train_loss = 2.218\n",
      "Epoch  17 Batch    9/53   train_loss = 2.063\n",
      "Epoch  17 Batch   19/53   train_loss = 2.165\n",
      "Epoch  17 Batch   29/53   train_loss = 2.077\n",
      "Epoch  17 Batch   39/53   train_loss = 1.987\n",
      "Epoch  17 Batch   49/53   train_loss = 2.113\n",
      "Epoch  18 Batch    6/53   train_loss = 2.119\n",
      "Epoch  18 Batch   16/53   train_loss = 2.046\n",
      "Epoch  18 Batch   26/53   train_loss = 1.879\n",
      "Epoch  18 Batch   36/53   train_loss = 2.063\n",
      "Epoch  18 Batch   46/53   train_loss = 1.964\n",
      "Epoch  19 Batch    3/53   train_loss = 2.026\n",
      "Epoch  19 Batch   13/53   train_loss = 2.027\n",
      "Epoch  19 Batch   23/53   train_loss = 1.947\n",
      "Epoch  19 Batch   33/53   train_loss = 1.959\n",
      "Epoch  19 Batch   43/53   train_loss = 1.951\n",
      "Epoch  20 Batch    0/53   train_loss = 1.899\n",
      "Epoch  20 Batch   10/53   train_loss = 1.831\n",
      "Epoch  20 Batch   20/53   train_loss = 1.845\n",
      "Epoch  20 Batch   30/53   train_loss = 1.897\n",
      "Epoch  20 Batch   40/53   train_loss = 1.854\n",
      "Epoch  20 Batch   50/53   train_loss = 1.888\n",
      "Epoch  21 Batch    7/53   train_loss = 1.831\n",
      "Epoch  21 Batch   17/53   train_loss = 1.729\n",
      "Epoch  21 Batch   27/53   train_loss = 1.818\n",
      "Epoch  21 Batch   37/53   train_loss = 1.823\n",
      "Epoch  21 Batch   47/53   train_loss = 1.828\n",
      "Epoch  22 Batch    4/53   train_loss = 1.802\n",
      "Epoch  22 Batch   14/53   train_loss = 1.740\n",
      "Epoch  22 Batch   24/53   train_loss = 1.657\n",
      "Epoch  22 Batch   34/53   train_loss = 1.738\n",
      "Epoch  22 Batch   44/53   train_loss = 1.793\n",
      "Epoch  23 Batch    1/53   train_loss = 1.676\n",
      "Epoch  23 Batch   11/53   train_loss = 1.790\n",
      "Epoch  23 Batch   21/53   train_loss = 1.538\n",
      "Epoch  23 Batch   31/53   train_loss = 1.713\n",
      "Epoch  23 Batch   41/53   train_loss = 1.740\n",
      "Epoch  23 Batch   51/53   train_loss = 1.599\n",
      "Epoch  24 Batch    8/53   train_loss = 1.625\n",
      "Epoch  24 Batch   18/53   train_loss = 1.669\n",
      "Epoch  24 Batch   28/53   train_loss = 1.661\n",
      "Epoch  24 Batch   38/53   train_loss = 1.744\n",
      "Epoch  24 Batch   48/53   train_loss = 1.604\n",
      "Epoch  25 Batch    5/53   train_loss = 1.709\n",
      "Epoch  25 Batch   15/53   train_loss = 1.610\n",
      "Epoch  25 Batch   25/53   train_loss = 1.665\n",
      "Epoch  25 Batch   35/53   train_loss = 1.635\n",
      "Epoch  25 Batch   45/53   train_loss = 1.651\n",
      "Epoch  26 Batch    2/53   train_loss = 1.627\n",
      "Epoch  26 Batch   12/53   train_loss = 1.612\n",
      "Epoch  26 Batch   22/53   train_loss = 1.621\n",
      "Epoch  26 Batch   32/53   train_loss = 1.489\n",
      "Epoch  26 Batch   42/53   train_loss = 1.491\n",
      "Epoch  26 Batch   52/53   train_loss = 1.622\n",
      "Epoch  27 Batch    9/53   train_loss = 1.449\n",
      "Epoch  27 Batch   19/53   train_loss = 1.572\n",
      "Epoch  27 Batch   29/53   train_loss = 1.488\n",
      "Epoch  27 Batch   39/53   train_loss = 1.442\n",
      "Epoch  27 Batch   49/53   train_loss = 1.518\n",
      "Epoch  28 Batch    6/53   train_loss = 1.562\n",
      "Epoch  28 Batch   16/53   train_loss = 1.521\n",
      "Epoch  28 Batch   26/53   train_loss = 1.298\n",
      "Epoch  28 Batch   36/53   train_loss = 1.529\n",
      "Epoch  28 Batch   46/53   train_loss = 1.507\n",
      "Epoch  29 Batch    3/53   train_loss = 1.505\n",
      "Epoch  29 Batch   13/53   train_loss = 1.502\n",
      "Epoch  29 Batch   23/53   train_loss = 1.436\n",
      "Epoch  29 Batch   33/53   train_loss = 1.460\n",
      "Epoch  29 Batch   43/53   train_loss = 1.463\n",
      "Epoch  30 Batch    0/53   train_loss = 1.418\n",
      "Epoch  30 Batch   10/53   train_loss = 1.376\n",
      "Epoch  30 Batch   20/53   train_loss = 1.313\n",
      "Epoch  30 Batch   30/53   train_loss = 1.421\n",
      "Epoch  30 Batch   40/53   train_loss = 1.366\n",
      "Epoch  30 Batch   50/53   train_loss = 1.392\n",
      "Epoch  31 Batch    7/53   train_loss = 1.320\n",
      "Epoch  31 Batch   17/53   train_loss = 1.267\n",
      "Epoch  31 Batch   27/53   train_loss = 1.421\n",
      "Epoch  31 Batch   37/53   train_loss = 1.380\n",
      "Epoch  31 Batch   47/53   train_loss = 1.373\n",
      "Epoch  32 Batch    4/53   train_loss = 1.368\n",
      "Epoch  32 Batch   14/53   train_loss = 1.360\n",
      "Epoch  32 Batch   24/53   train_loss = 1.228\n",
      "Epoch  32 Batch   34/53   train_loss = 1.359\n",
      "Epoch  32 Batch   44/53   train_loss = 1.407\n",
      "Epoch  33 Batch    1/53   train_loss = 1.293\n",
      "Epoch  33 Batch   11/53   train_loss = 1.430\n",
      "Epoch  33 Batch   21/53   train_loss = 1.174\n",
      "Epoch  33 Batch   31/53   train_loss = 1.300\n",
      "Epoch  33 Batch   41/53   train_loss = 1.348\n",
      "Epoch  33 Batch   51/53   train_loss = 1.195\n",
      "Epoch  34 Batch    8/53   train_loss = 1.240\n",
      "Epoch  34 Batch   18/53   train_loss = 1.264\n",
      "Epoch  34 Batch   28/53   train_loss = 1.312\n",
      "Epoch  34 Batch   38/53   train_loss = 1.342\n",
      "Epoch  34 Batch   48/53   train_loss = 1.257\n",
      "Epoch  35 Batch    5/53   train_loss = 1.345\n",
      "Epoch  35 Batch   15/53   train_loss = 1.254\n",
      "Epoch  35 Batch   25/53   train_loss = 1.305\n",
      "Epoch  35 Batch   35/53   train_loss = 1.312\n",
      "Epoch  35 Batch   45/53   train_loss = 1.349\n",
      "Epoch  36 Batch    2/53   train_loss = 1.327\n",
      "Epoch  36 Batch   12/53   train_loss = 1.319\n",
      "Epoch  36 Batch   22/53   train_loss = 1.249\n",
      "Epoch  36 Batch   32/53   train_loss = 1.213\n",
      "Epoch  36 Batch   42/53   train_loss = 1.173\n",
      "Epoch  36 Batch   52/53   train_loss = 1.296\n",
      "Epoch  37 Batch    9/53   train_loss = 1.112\n",
      "Epoch  37 Batch   19/53   train_loss = 1.236\n",
      "Epoch  37 Batch   29/53   train_loss = 1.204\n",
      "Epoch  37 Batch   39/53   train_loss = 1.191\n",
      "Epoch  37 Batch   49/53   train_loss = 1.242\n",
      "Epoch  38 Batch    6/53   train_loss = 1.249\n",
      "Epoch  38 Batch   16/53   train_loss = 1.238\n",
      "Epoch  38 Batch   26/53   train_loss = 1.030\n",
      "Epoch  38 Batch   36/53   train_loss = 1.276\n",
      "Epoch  38 Batch   46/53   train_loss = 1.186\n",
      "Epoch  39 Batch    3/53   train_loss = 1.172\n",
      "Epoch  39 Batch   13/53   train_loss = 1.186\n",
      "Epoch  39 Batch   23/53   train_loss = 1.166\n",
      "Epoch  39 Batch   33/53   train_loss = 1.187\n",
      "Epoch  39 Batch   43/53   train_loss = 1.170\n",
      "Epoch  40 Batch    0/53   train_loss = 1.127\n",
      "Epoch  40 Batch   10/53   train_loss = 1.088\n",
      "Epoch  40 Batch   20/53   train_loss = 1.064\n",
      "Epoch  40 Batch   30/53   train_loss = 1.119\n",
      "Epoch  40 Batch   40/53   train_loss = 1.136\n",
      "Epoch  40 Batch   50/53   train_loss = 1.126\n",
      "Epoch  41 Batch    7/53   train_loss = 1.045\n",
      "Epoch  41 Batch   17/53   train_loss = 1.022\n",
      "Epoch  41 Batch   27/53   train_loss = 1.179\n",
      "Epoch  41 Batch   37/53   train_loss = 1.104\n",
      "Epoch  41 Batch   47/53   train_loss = 1.111\n",
      "Epoch  42 Batch    4/53   train_loss = 1.098\n",
      "Epoch  42 Batch   14/53   train_loss = 1.086\n",
      "Epoch  42 Batch   24/53   train_loss = 1.012\n",
      "Epoch  42 Batch   34/53   train_loss = 1.080\n",
      "Epoch  42 Batch   44/53   train_loss = 1.159\n",
      "Epoch  43 Batch    1/53   train_loss = 1.023\n",
      "Epoch  43 Batch   11/53   train_loss = 1.162\n",
      "Epoch  43 Batch   21/53   train_loss = 0.968\n",
      "Epoch  43 Batch   31/53   train_loss = 1.081\n",
      "Epoch  43 Batch   41/53   train_loss = 1.110\n",
      "Epoch  43 Batch   51/53   train_loss = 0.993\n",
      "Epoch  44 Batch    8/53   train_loss = 1.024\n",
      "Epoch  44 Batch   18/53   train_loss = 1.040\n",
      "Epoch  44 Batch   28/53   train_loss = 1.123\n",
      "Epoch  44 Batch   38/53   train_loss = 1.116\n",
      "Epoch  44 Batch   48/53   train_loss = 1.039\n",
      "Epoch  45 Batch    5/53   train_loss = 1.139\n",
      "Epoch  45 Batch   15/53   train_loss = 1.011\n",
      "Epoch  45 Batch   25/53   train_loss = 1.059\n",
      "Epoch  45 Batch   35/53   train_loss = 1.052\n",
      "Epoch  45 Batch   45/53   train_loss = 1.105\n",
      "Epoch  46 Batch    2/53   train_loss = 1.091\n",
      "Epoch  46 Batch   12/53   train_loss = 1.087\n",
      "Epoch  46 Batch   22/53   train_loss = 1.063\n",
      "Epoch  46 Batch   32/53   train_loss = 0.983\n",
      "Epoch  46 Batch   42/53   train_loss = 0.969\n",
      "Epoch  46 Batch   52/53   train_loss = 1.067\n",
      "Epoch  47 Batch    9/53   train_loss = 0.945\n",
      "Epoch  47 Batch   19/53   train_loss = 1.052\n",
      "Epoch  47 Batch   29/53   train_loss = 1.013\n",
      "Epoch  47 Batch   39/53   train_loss = 0.978\n",
      "Epoch  47 Batch   49/53   train_loss = 1.001\n",
      "Epoch  48 Batch    6/53   train_loss = 1.037\n",
      "Epoch  48 Batch   16/53   train_loss = 1.021\n",
      "Epoch  48 Batch   26/53   train_loss = 0.847\n",
      "Epoch  48 Batch   36/53   train_loss = 1.104\n",
      "Epoch  48 Batch   46/53   train_loss = 1.002\n",
      "Epoch  49 Batch    3/53   train_loss = 1.046\n",
      "Epoch  49 Batch   13/53   train_loss = 1.017\n",
      "Epoch  49 Batch   23/53   train_loss = 0.971\n",
      "Epoch  49 Batch   33/53   train_loss = 0.990\n",
      "Epoch  49 Batch   43/53   train_loss = 1.001\n",
      "Model Trained and Saved\n"
     ]
    }
   ],
   "source": [
    "\"\"\"\n",
    "DON'T MODIFY ANYTHING IN THIS CELL\n",
    "\"\"\"\n",
    "batches = get_batches(int_text, batch_size, seq_length)\n",
    "\n",
    "with tf.Session(graph=train_graph) as sess:\n",
    "    sess.run(tf.global_variables_initializer())\n",
    "\n",
    "    for epoch_i in range(num_epochs):\n",
    "        state = sess.run(initial_state, {input_text: batches[0][0]})\n",
    "\n",
    "        for batch_i, (x, y) in enumerate(batches):\n",
    "            feed = {\n",
    "                input_text: x,\n",
    "                targets: y,\n",
    "                initial_state: state,\n",
    "                lr: learning_rate}\n",
    "            train_loss, state, _ = sess.run([cost, final_state, train_op], feed)\n",
    "\n",
    "            # Show every <show_every_n_batches> batches\n",
    "            if (epoch_i * len(batches) + batch_i) % show_every_n_batches == 0:\n",
    "                print('Epoch {:>3} Batch {:>4}/{}   train_loss = {:.3f}'.format(\n",
    "                    epoch_i,\n",
    "                    batch_i,\n",
    "                    len(batches),\n",
    "                    train_loss))\n",
    "\n",
    "    # Save Model\n",
    "    saver = tf.train.Saver()\n",
    "    saver.save(sess, save_dir)\n",
    "    print('Model Trained and Saved')"
   ]
  },
  {
   "cell_type": "markdown",
   "metadata": {
    "deletable": true,
    "editable": true
   },
   "source": [
    "## Save Parameters\n",
    "Save `seq_length` and `save_dir` for generating a new TV script."
   ]
  },
  {
   "cell_type": "code",
   "execution_count": 166,
   "metadata": {
    "collapsed": false,
    "deletable": true,
    "editable": true
   },
   "outputs": [],
   "source": [
    "\"\"\"\n",
    "DON'T MODIFY ANYTHING IN THIS CELL\n",
    "\"\"\"\n",
    "# Save parameters for checkpoint\n",
    "helper.save_params((seq_length, save_dir))"
   ]
  },
  {
   "cell_type": "markdown",
   "metadata": {
    "deletable": true,
    "editable": true
   },
   "source": [
    "# Checkpoint"
   ]
  },
  {
   "cell_type": "code",
   "execution_count": 167,
   "metadata": {
    "collapsed": false,
    "deletable": true,
    "editable": true
   },
   "outputs": [],
   "source": [
    "\"\"\"\n",
    "DON'T MODIFY ANYTHING IN THIS CELL\n",
    "\"\"\"\n",
    "import tensorflow as tf\n",
    "import numpy as np\n",
    "import helper\n",
    "import problem_unittests as tests\n",
    "\n",
    "_, vocab_to_int, int_to_vocab, token_dict = helper.load_preprocess()\n",
    "seq_length, load_dir = helper.load_params()"
   ]
  },
  {
   "cell_type": "markdown",
   "metadata": {
    "deletable": true,
    "editable": true
   },
   "source": [
    "## Implement Generate Functions\n",
    "### Get Tensors\n",
    "Get tensors from `loaded_graph` using the function [`get_tensor_by_name()`](https://www.tensorflow.org/api_docs/python/tf/Graph#get_tensor_by_name).  Get the tensors using the following names:\n",
    "- \"input:0\"\n",
    "- \"initial_state:0\"\n",
    "- \"final_state:0\"\n",
    "- \"probs:0\"\n",
    "\n",
    "Return the tensors in the following tuple `(InputTensor, InitialStateTensor, FinalStateTensor, ProbsTensor)` "
   ]
  },
  {
   "cell_type": "code",
   "execution_count": 168,
   "metadata": {
    "collapsed": false,
    "deletable": true,
    "editable": true
   },
   "outputs": [
    {
     "name": "stdout",
     "output_type": "stream",
     "text": [
      "Tests Passed\n"
     ]
    }
   ],
   "source": [
    "def get_tensors(loaded_graph):\n",
    "    \"\"\"\n",
    "    Get input, initial state, final state, and probabilities tensor from <loaded_graph>\n",
    "    :param loaded_graph: TensorFlow graph loaded from file\n",
    "    :return: Tuple (InputTensor, InitialStateTensor, FinalStateTensor, ProbsTensor)\n",
    "    \"\"\"\n",
    "    # TODO: Implement Function\n",
    "    return loaded_graph.get_tensor_by_name(\"input:0\"), loaded_graph.get_tensor_by_name(\"initial_state:0\"), loaded_graph.get_tensor_by_name(\"final_state:0\"), loaded_graph.get_tensor_by_name(\"probs:0\")\n",
    "\n",
    "\n",
    "\"\"\"\n",
    "DON'T MODIFY ANYTHING IN THIS CELL THAT IS BELOW THIS LINE\n",
    "\"\"\"\n",
    "tests.test_get_tensors(get_tensors)"
   ]
  },
  {
   "cell_type": "markdown",
   "metadata": {
    "deletable": true,
    "editable": true
   },
   "source": [
    "### Choose Word\n",
    "Implement the `pick_word()` function to select the next word using `probabilities`."
   ]
  },
  {
   "cell_type": "code",
   "execution_count": 169,
   "metadata": {
    "collapsed": false,
    "deletable": true,
    "editable": true
   },
   "outputs": [
    {
     "name": "stdout",
     "output_type": "stream",
     "text": [
      "Tests Passed\n"
     ]
    }
   ],
   "source": [
    "def pick_word(probabilities, int_to_vocab):\n",
    "    \"\"\"\n",
    "    Pick the next word in the generated text\n",
    "    :param probabilities: Probabilites of the next word\n",
    "    :param int_to_vocab: Dictionary of word ids as the keys and words as the values\n",
    "    :return: String of the predicted word\n",
    "    \"\"\"\n",
    "    # TODO: Implement Function\n",
    "    idx = np.random.choice(len(int_to_vocab),p=probabilities)\n",
    "    return int_to_vocab[idx]\n",
    "\n",
    "\n",
    "\"\"\"\n",
    "DON'T MODIFY ANYTHING IN THIS CELL THAT IS BELOW THIS LINE\n",
    "\"\"\"\n",
    "tests.test_pick_word(pick_word)"
   ]
  },
  {
   "cell_type": "markdown",
   "metadata": {
    "deletable": true,
    "editable": true
   },
   "source": [
    "## Generate TV Script\n",
    "This will generate the TV script for you.  Set `gen_length` to the length of TV script you want to generate."
   ]
  },
  {
   "cell_type": "code",
   "execution_count": 170,
   "metadata": {
    "collapsed": false,
    "deletable": true,
    "editable": true
   },
   "outputs": [
    {
     "name": "stdout",
     "output_type": "stream",
     "text": [
      "moe_szyslak: yeah is, use it a little bit.\n",
      "homer_simpson: so i'm just gonna let me home. moe after they've bounced at the theater next to the theater i'm\n",
      "moe_szyslak: thank god there's no accident. but you've been 'cause this bar and moe's cappuccino machine, or\" ancient treat her first credit?\n",
      "homer_simpson: why you're a published author!\n",
      "carl_carlson:(chuckle) this?\n",
      "homer_simpson:(admitting) it's true! there's no! i got the food on the face.\n",
      "stillwater: sir, how many times have to follow him a new life... nein... ehhhhhh sure.\n",
      "barney_gumble:(gasps)\n",
      "moe_szyslak:(dead serious, sad) no! hide how no man we get a few tips?(selling)\n",
      "homer_simpson: certainly, lenford. what am i, superdad?\n",
      "bart_simpson:(menacing) what are you!\n",
      "moe_szyslak:(pained) oh, i was gonna stop it.\n",
      "\n",
      "lisa_simpson: who knew goblins had feelings? in(into one) and i have severe depression?\n",
      "moe_szyslak:\n"
     ]
    }
   ],
   "source": [
    "gen_length = 200\n",
    "# homer_simpson, moe_szyslak, or Barney_Gumble\n",
    "prime_word = 'moe_szyslak'\n",
    "\n",
    "\"\"\"\n",
    "DON'T MODIFY ANYTHING IN THIS CELL THAT IS BELOW THIS LINE\n",
    "\"\"\"\n",
    "loaded_graph = tf.Graph()\n",
    "with tf.Session(graph=loaded_graph) as sess:\n",
    "    # Load saved model\n",
    "    loader = tf.train.import_meta_graph(load_dir + '.meta')\n",
    "    loader.restore(sess, load_dir)\n",
    "\n",
    "    # Get Tensors from loaded model\n",
    "    input_text, initial_state, final_state, probs = get_tensors(loaded_graph)\n",
    "\n",
    "    # Sentences generation setup\n",
    "    gen_sentences = [prime_word + ':']\n",
    "    prev_state = sess.run(initial_state, {input_text: np.array([[1]])})\n",
    "\n",
    "    # Generate sentences\n",
    "    for n in range(gen_length):\n",
    "        # Dynamic Input\n",
    "        dyn_input = [[vocab_to_int[word] for word in gen_sentences[-seq_length:]]]\n",
    "        dyn_seq_length = len(dyn_input[0])\n",
    "\n",
    "        # Get Prediction\n",
    "        probabilities, prev_state = sess.run(\n",
    "            [probs, final_state],\n",
    "            {input_text: dyn_input, initial_state: prev_state})\n",
    "        \n",
    "        pred_word = pick_word(probabilities[dyn_seq_length-1], int_to_vocab)\n",
    "\n",
    "        gen_sentences.append(pred_word)\n",
    "    \n",
    "    # Remove tokens\n",
    "    tv_script = ' '.join(gen_sentences)\n",
    "    for key, token in token_dict.items():\n",
    "        ending = ' ' if key in ['\\n', '(', '\"'] else ''\n",
    "        tv_script = tv_script.replace(' ' + token.lower(), key)\n",
    "    tv_script = tv_script.replace('\\n ', '\\n')\n",
    "    tv_script = tv_script.replace('( ', '(')\n",
    "        \n",
    "    print(tv_script)"
   ]
  },
  {
   "cell_type": "markdown",
   "metadata": {
    "deletable": true,
    "editable": true
   },
   "source": [
    "# On the script output\n",
    "The TV script may not make sense, we trained on less than a megabyte of text, plus it has no notion of language meaning.  The full dataset is available [here](https://www.kaggle.com/wcukierski/the-simpsons-by-the-data).  "
   ]
  },
  {
   "cell_type": "code",
   "execution_count": null,
   "metadata": {
    "collapsed": true
   },
   "outputs": [],
   "source": []
  }
 ],
 "metadata": {
  "anaconda-cloud": {},
  "kernelspec": {
   "display_name": "Python [default]",
   "language": "python",
   "name": "python3"
  },
  "language_info": {
   "codemirror_mode": {
    "name": "ipython",
    "version": 3
   },
   "file_extension": ".py",
   "mimetype": "text/x-python",
   "name": "python",
   "nbconvert_exporter": "python",
   "pygments_lexer": "ipython3",
   "version": "3.5.2"
  }
 },
 "nbformat": 4,
 "nbformat_minor": 0
}
